{
  "cells": [
    {
      "cell_type": "markdown",
      "metadata": {
        "id": "view-in-github",
        "colab_type": "text"
      },
      "source": [
        "<a href=\"https://colab.research.google.com/github/Andriamaharorado/datascience/blob/main/CV_Classification_Organique_Recyclable.ipynb\" target=\"_parent\"><img src=\"https://colab.research.google.com/assets/colab-badge.svg\" alt=\"Open In Colab\"/></a>"
      ]
    },
    {
      "cell_type": "markdown",
      "metadata": {
        "id": "Tab_8HWcbAQf"
      },
      "source": [
        "# Classification d'images des produits organique et recyclable\n",
        "\n",
        "## Objectif\n",
        "L'objectif de ce projet est de classifier les éléments organiques qui sont biodégradables et les éléments recyclables tels que les plastiques et les ferrailles. Nous avons utilisé des datasets disponibles sur Kaggle pour affiner notre modèle de classification d'images.\n",
        "## Contexte\n",
        "Antananarivo, la capitale de Madagascar, fait face à des défis importants en matière de gestion des déchets. Bien que certaines startups et villes, comme la commune d'Alasora, aient commencé à trier les déchets, dans les décharges urbaines, les déchets ne sont pas triés et sont directement envoyés à la décharge d'Andralanitra. Cette dernière est devenue la \"13ème colline\" d'Antananarivo en raison de l'accumulation croissante des déchets, formant ainsi une colline. La population environnante d'Andralanitra est suffoquée par l'odeur nauséabonde des déchets, entraînant des maladies chroniques.\n",
        "\n",
        "En réalisant ce projet, nous visons à encourager le tri des déchets. Les déchets organiques pourraient être transformés en compost et en source de gaz, tandis que les déchets recyclables deviendraient plus faciles à gérer, améliorant ainsi le cycle de transformation.\n",
        "\n",
        "## Dataset\n",
        "Dans ce dataset de Kaggle <a href=\"https://www.kaggle.com/datasets/techsash/waste-classification-data\">Waste Classification data</a>, nous disposons de deux classes avec plus de 20 000 images au total."
      ]
    },
    {
      "cell_type": "code",
      "execution_count": null,
      "metadata": {
        "colab": {
          "base_uri": "https://localhost:8080/"
        },
        "id": "OX9xSUXSY3C4",
        "outputId": "dfc3eef4-e262-4bbf-b4d4-4f86d17b71d5"
      },
      "outputs": [
        {
          "name": "stdout",
          "output_type": "stream",
          "text": [
            "Mounted at /content/drive\n"
          ]
        }
      ],
      "source": [
        "from google.colab import drive\n",
        "drive.mount('/content/drive')"
      ]
    },
    {
      "cell_type": "code",
      "execution_count": null,
      "metadata": {
        "id": "I_4e0q85ZI3s"
      },
      "outputs": [],
      "source": [
        "import os\n",
        "import pandas as pd\n",
        "import numpy as np\n",
        "from PIL import Image\n",
        "from torch.utils.data import Dataset, DataLoader, SubsetRandomSampler\n",
        "from torchvision import transforms\n",
        "from sklearn.model_selection import train_test_split"
      ]
    },
    {
      "cell_type": "code",
      "execution_count": null,
      "metadata": {
        "id": "S_ZcgA7Gb54G"
      },
      "outputs": [],
      "source": [
        "class WasteDataset(Dataset):\n",
        "    def __init__(self, csv_file, root_dir, transform=None):\n",
        "        self.labels_df = pd.read_csv(csv_file)\n",
        "        self.root_dir = root_dir\n",
        "        self.transform = transform\n",
        "\n",
        "    def __len__(self):\n",
        "        return len(self.labels_df)\n",
        "\n",
        "    def __getitem__(self, idx):\n",
        "        img_name = os.path.join(self.root_dir, self.labels_df.iloc[idx, 1], self.labels_df.iloc[idx, 0] + '.jpg')\n",
        "        try:\n",
        "            image = Image.open(img_name).convert(\"RGB\")\n",
        "        except FileNotFoundError:\n",
        "            raise FileNotFoundError(f\"File not found: {img_name}\")\n",
        "\n",
        "        label = 0 if self.labels_df.iloc[idx, 1] == 'Recyclable' else 1\n",
        "\n",
        "        if self.transform:\n",
        "            image = self.transform(image)\n",
        "\n",
        "        return image, label"
      ]
    },
    {
      "cell_type": "markdown",
      "metadata": {
        "id": "d3IIMndxd6_q"
      },
      "source": [
        "\"data_transforms\" définit un ensemble de transformations à appliquer aux images avant de les utiliser pour entraîner. Ces transformations sont essentielles pour améliorer les performances et la robustesse du modèle."
      ]
    },
    {
      "cell_type": "code",
      "execution_count": null,
      "metadata": {
        "id": "-PFzgjPid2-p"
      },
      "outputs": [],
      "source": [
        "# Define the data transformations\n",
        "data_transforms = {\n",
        "    'train': transforms.Compose([\n",
        "        transforms.Resize((256, 256)),  # Resize to 256x256 pixels\n",
        "        transforms.RandomHorizontalFlip(),  # Data augmentation\n",
        "        transforms.ToTensor(),  # Convert image to PyTorch tensor\n",
        "        transforms.Normalize([0.485, 0.456, 0.406], [0.229, 0.224, 0.225])  # Normalize with mean and std\n",
        "    ]),\n",
        "    'test': transforms.Compose([\n",
        "        transforms.Resize((256, 256)),  # Resize to 256x256 pixels\n",
        "        transforms.ToTensor(),  # Convert image to PyTorch tensor\n",
        "        transforms.Normalize([0.485, 0.456, 0.406], [0.229, 0.224, 0.225])  # Normalize with mean and std\n",
        "    ]),\n",
        "}"
      ]
    },
    {
      "cell_type": "code",
      "execution_count": null,
      "metadata": {
        "id": "EdaYcNUPdStQ"
      },
      "outputs": [],
      "source": [
        "# Definir les chemins\n",
        "dataset_path = '/content/drive/MyDrive/datasetwastedetection/DATASET'\n",
        "csv_train_path = '/content/drive/MyDrive/datasetwastedetection/DATASET/train_labels.csv'\n",
        "csv_test_path = '/content/drive/MyDrive/datasetwastedetection/DATASET/test_labels.csv'\n",
        "root_dir_train = '/content/drive/MyDrive/datasetwastedetection/DATASET/TRAIN'\n",
        "root_dir_test = '/content/drive/MyDrive/datasetwastedetection/DATASET/TEST'"
      ]
    },
    {
      "cell_type": "code",
      "execution_count": null,
      "metadata": {
        "id": "0DAfk_oQeSRS"
      },
      "outputs": [],
      "source": [
        "# Créer le jeu de données complet pour l'entraînement\n",
        "full_train_dataset = WasteDataset(csv_file=csv_train_path, root_dir=root_dir_train, transform=data_transforms['train'])"
      ]
    },
    {
      "cell_type": "markdown",
      "metadata": {
        "id": "OCeHLjHqfUu2"
      },
      "source": [
        "La donnée de validation va représenter 20% du donnée d'entrainement."
      ]
    },
    {
      "cell_type": "code",
      "execution_count": null,
      "metadata": {
        "id": "xn3nSgd0e1tR"
      },
      "outputs": [],
      "source": [
        "# Diviser les indices pour l'entraînement et la validation\n",
        "dataset_size = len(full_train_dataset)\n",
        "indices = list(range(dataset_size))\n",
        "split = int(np.floor(0.2 * dataset_size))\n",
        "np.random.shuffle(indices)\n",
        "train_indices, val_indices = indices[split:], indices[:split]"
      ]
    },
    {
      "cell_type": "code",
      "execution_count": null,
      "metadata": {
        "id": "P4uF6sS9e-hq"
      },
      "outputs": [],
      "source": [
        "# Créer des échantillonneurs (samplers)\n",
        "train_sampler = SubsetRandomSampler(train_indices)\n",
        "val_sampler = SubsetRandomSampler(val_indices)"
      ]
    },
    {
      "cell_type": "code",
      "execution_count": null,
      "metadata": {
        "id": "vP8htx7pfCIw"
      },
      "outputs": [],
      "source": [
        "# Créer les chargeurs de données (data loaders)\n",
        "train_loader = DataLoader(full_train_dataset, batch_size=32, sampler=train_sampler, num_workers=2)\n",
        "val_loader = DataLoader(full_train_dataset, batch_size=32, sampler=val_sampler, num_workers=2)"
      ]
    },
    {
      "cell_type": "code",
      "execution_count": null,
      "metadata": {
        "id": "dOhtRMG8fFTN"
      },
      "outputs": [],
      "source": [
        "# Créer le jeu de données de test et le chargeur de test\n",
        "test_dataset = WasteDataset(csv_file=csv_test_path, root_dir=root_dir_test, transform=data_transforms['test'])\n",
        "test_loader = DataLoader(test_dataset, batch_size=32, shuffle=False, num_workers=2)"
      ]
    },
    {
      "cell_type": "markdown",
      "metadata": {
        "id": "24g3Z-UpfcvQ"
      },
      "source": [
        "## Resnet18"
      ]
    },
    {
      "cell_type": "code",
      "execution_count": null,
      "metadata": {
        "id": "8cVPb7pHfTKV"
      },
      "outputs": [],
      "source": [
        "import torch\n",
        "import torch.nn as nn\n",
        "import torch.optim as optim\n",
        "from torchvision import models"
      ]
    },
    {
      "cell_type": "code",
      "execution_count": null,
      "metadata": {
        "colab": {
          "base_uri": "https://localhost:8080/"
        },
        "id": "Cq3Bf8B5foeC",
        "outputId": "b1eae5de-32da-4628-d78a-b8cffb431825"
      },
      "outputs": [
        {
          "name": "stderr",
          "output_type": "stream",
          "text": [
            "Downloading: \"https://download.pytorch.org/models/resnet18-f37072fd.pth\" to /root/.cache/torch/hub/checkpoints/resnet18-f37072fd.pth\n",
            "100%|██████████| 44.7M/44.7M [00:00<00:00, 202MB/s]\n"
          ]
        }
      ],
      "source": [
        "# Définir le modèle ResNet18 pré-entraîné\n",
        "num_classes = 2  # Nombre de classes (Recyclable et Organique)\n",
        "model = models.resnet18(weights=models.ResNet18_Weights.IMAGENET1K_V1)\n",
        "in_features = model.fc.in_features\n",
        "model.fc = nn.Linear(in_features, num_classes)"
      ]
    },
    {
      "cell_type": "code",
      "execution_count": null,
      "metadata": {
        "id": "ISzJXA3ifsgG"
      },
      "outputs": [],
      "source": [
        "# Détection du dispositif (GPU ou CPU) et transfert du modèle sur le dispositif approprié\n",
        "device = torch.device(\"cuda:0\" if torch.cuda.is_available() else \"cpu\")\n",
        "model = model.to(device)"
      ]
    },
    {
      "cell_type": "code",
      "execution_count": null,
      "metadata": {
        "id": "OZBSdwcYlJAX"
      },
      "outputs": [],
      "source": [
        "def train_one_epoch(model, train_loader, criterion, optimizer, device, log_interval=100):\n",
        "    model.train()\n",
        "    running_loss = 0.0\n",
        "\n",
        "    for batch_idx, (inputs, labels) in enumerate(train_loader):\n",
        "        inputs, labels = inputs.to(device), labels.to(device)\n",
        "\n",
        "        optimizer.zero_grad()\n",
        "        outputs = model(inputs)\n",
        "        loss = criterion(outputs, labels)\n",
        "        loss.backward()\n",
        "        optimizer.step()\n",
        "\n",
        "        running_loss += loss.item() * inputs.size(0)\n",
        "\n",
        "        if batch_idx % log_interval == 0:\n",
        "            print(f\"Batch {batch_idx}/{len(train_loader)}, Loss: {loss.item():.4f}\")\n",
        "\n",
        "    epoch_loss = running_loss / len(train_loader.dataset)\n",
        "    print(f\"Loss: {epoch_loss:.4f}\")"
      ]
    },
    {
      "cell_type": "code",
      "execution_count": null,
      "metadata": {
        "id": "lL3o1GgImUIX"
      },
      "outputs": [],
      "source": [
        "def validate_model(model, val_loader, criterion, device):\n",
        "    model.eval()\n",
        "    val_loss = 0.0\n",
        "    correct = 0\n",
        "    total = 0\n",
        "\n",
        "    with torch.no_grad():\n",
        "        for inputs, labels in val_loader:\n",
        "            inputs, labels = inputs.to(device), labels.to(device)\n",
        "\n",
        "            outputs = model(inputs)\n",
        "            loss = criterion(outputs, labels)\n",
        "\n",
        "            val_loss += loss.item() * inputs.size(0)\n",
        "\n",
        "            _, predicted = torch.max(outputs, 1)\n",
        "            total += labels.size(0)\n",
        "            correct += (predicted == labels).sum().item()\n",
        "\n",
        "    val_loss /= len(val_loader.dataset)\n",
        "    val_accuracy = correct / total\n",
        "    print(f\"Validation Loss: {val_loss:.4f}, Accuracy: {val_accuracy:.4f}\")"
      ]
    },
    {
      "cell_type": "markdown",
      "metadata": {
        "id": "PQpLicQrbhGU"
      },
      "source": [
        "La fonction \"train_and_validate\" fait l'entrainement du model ainsi que la validation apres avoir fini l'entrainement qui fait appel à la fonction \"train_one_epoch\" et à la fonction \"validate_model\". Le model est ensuite sauvegarder vers un chemin défini."
      ]
    },
    {
      "cell_type": "code",
      "execution_count": null,
      "metadata": {
        "id": "UfNcGeuqmPoH"
      },
      "outputs": [],
      "source": [
        "def train_and_validate(model, train_loader, val_loader, criterion, optimizer, device,model_path, num_epochs=10, log_interval=100):\n",
        "    for epoch in range(num_epochs):\n",
        "        print(f\"Epoch {epoch + 1}/{num_epochs}\")\n",
        "        train_one_epoch(model, train_loader, criterion, optimizer, device, log_interval)\n",
        "\n",
        "    validate_model(model, val_loader, criterion, device)\n",
        "    # Sauvegarde du modèle\n",
        "    torch.save(model.state_dict(), model_path)\n",
        "    print(f\"Modèle sauvegardé sous '{model_path}'\")"
      ]
    },
    {
      "cell_type": "markdown",
      "metadata": {
        "id": "e51d8Hkm-qIv"
      },
      "source": [
        "### Adam\n",
        "Dans le premier cas, nous allons choisir l'optimiseur \"Adam\". La convergence de cet optimiseur est rapide et il est robuste"
      ]
    },
    {
      "cell_type": "code",
      "execution_count": null,
      "metadata": {
        "id": "C0IFbozY-oqN"
      },
      "outputs": [],
      "source": [
        "# Définir la fonction de perte\n",
        "criterion = nn.CrossEntropyLoss()\n",
        "\n",
        "# Définir l'optimiseur\n",
        "optimizer = optim.Adam(model.parameters(), lr=0.001)"
      ]
    },
    {
      "cell_type": "code",
      "execution_count": null,
      "metadata": {
        "colab": {
          "background_save": true,
          "base_uri": "https://localhost:8080/"
        },
        "id": "m3oTgv1ClOEn",
        "outputId": "7515b1ae-07c6-4ca4-cfde-7e54d8b08c64"
      },
      "outputs": [
        {
          "name": "stdout",
          "output_type": "stream",
          "text": [
            "Epoch 1/10\n",
            "Batch 0/568, Loss: 0.2312\n",
            "Batch 100/568, Loss: 0.2264\n",
            "Batch 200/568, Loss: 0.2767\n",
            "Batch 300/568, Loss: 0.2234\n",
            "Batch 400/568, Loss: 0.3824\n",
            "Batch 500/568, Loss: 0.4301\n",
            "Loss: 0.2044\n",
            "Epoch 2/10\n",
            "Batch 0/568, Loss: 0.3133\n",
            "Batch 100/568, Loss: 0.1636\n",
            "Batch 200/568, Loss: 0.2190\n",
            "Batch 300/568, Loss: 0.2422\n",
            "Batch 400/568, Loss: 0.1503\n",
            "Batch 500/568, Loss: 0.2874\n",
            "Loss: 0.1861\n",
            "Epoch 3/10\n",
            "Batch 0/568, Loss: 0.2961\n",
            "Batch 100/568, Loss: 0.1962\n",
            "Batch 200/568, Loss: 0.0772\n",
            "Batch 300/568, Loss: 0.2120\n",
            "Batch 400/568, Loss: 0.3141\n",
            "Batch 500/568, Loss: 0.2240\n",
            "Loss: 0.1736\n",
            "Epoch 4/10\n",
            "Batch 0/568, Loss: 0.1170\n",
            "Batch 100/568, Loss: 0.1188\n",
            "Batch 200/568, Loss: 0.2715\n",
            "Batch 300/568, Loss: 0.1363\n",
            "Batch 400/568, Loss: 0.1736\n",
            "Batch 500/568, Loss: 0.1039\n",
            "Loss: 0.1598\n",
            "Epoch 5/10\n",
            "Batch 0/568, Loss: 0.1575\n",
            "Batch 100/568, Loss: 0.1346\n",
            "Batch 200/568, Loss: 0.3040\n",
            "Batch 300/568, Loss: 0.3481\n",
            "Batch 400/568, Loss: 0.5115\n",
            "Batch 500/568, Loss: 0.4839\n",
            "Loss: 0.1498\n",
            "Epoch 6/10\n",
            "Batch 0/568, Loss: 0.1498\n",
            "Batch 100/568, Loss: 0.2800\n",
            "Batch 200/568, Loss: 0.2056\n",
            "Batch 300/568, Loss: 0.0996\n",
            "Batch 400/568, Loss: 0.1786\n",
            "Batch 500/568, Loss: 0.0552\n",
            "Loss: 0.1360\n",
            "Epoch 7/10\n",
            "Batch 0/568, Loss: 0.1346\n",
            "Batch 100/568, Loss: 0.1399\n",
            "Batch 200/568, Loss: 0.0827\n",
            "Batch 300/568, Loss: 0.1121\n",
            "Batch 400/568, Loss: 0.0466\n",
            "Batch 500/568, Loss: 0.1729\n",
            "Loss: 0.1309\n",
            "Epoch 8/10\n",
            "Batch 0/568, Loss: 0.0511\n",
            "Batch 100/568, Loss: 0.1898\n",
            "Batch 200/568, Loss: 0.0533\n",
            "Batch 300/568, Loss: 0.1545\n",
            "Batch 400/568, Loss: 0.2017\n",
            "Batch 500/568, Loss: 0.1751\n",
            "Loss: 0.1203\n",
            "Epoch 9/10\n",
            "Batch 0/568, Loss: 0.0748\n",
            "Batch 100/568, Loss: 0.1284\n",
            "Batch 200/568, Loss: 0.0721\n",
            "Batch 300/568, Loss: 0.1129\n",
            "Batch 400/568, Loss: 0.1575\n",
            "Batch 500/568, Loss: 0.0631\n",
            "Loss: 0.1090\n",
            "Epoch 10/10\n",
            "Batch 0/568, Loss: 0.0455\n",
            "Batch 100/568, Loss: 0.1147\n",
            "Batch 200/568, Loss: 0.1153\n",
            "Batch 300/568, Loss: 0.0873\n",
            "Batch 400/568, Loss: 0.0646\n",
            "Batch 500/568, Loss: 0.0584\n",
            "Loss: 0.0972\n",
            "Validation Loss: 0.0355, Accuracy: 0.9379\n",
            "Modèle sauvegardé sous '/content/drive/MyDrive/models/modelresnet18versusSec.pth'\n"
          ]
        }
      ],
      "source": [
        "# Appel de la fonction d'entraînement et de validation\n",
        "train_and_validate(model, train_loader, val_loader, criterion, optimizer, device, '/content/drive/MyDrive/models/modelresnet18versusSec.pth')"
      ]
    },
    {
      "cell_type": "code",
      "execution_count": null,
      "metadata": {
        "id": "IrzHNF0PO7fr"
      },
      "outputs": [],
      "source": [
        "from sklearn.metrics import classification_report, confusion_matrix\n",
        "import seaborn as sns\n",
        "import matplotlib.pyplot as plt\n",
        "import numpy as np"
      ]
    },
    {
      "cell_type": "markdown",
      "metadata": {
        "id": "PDG1yedtmhnW"
      },
      "source": [
        "La fonction \"evaluate_model\" permet d'évaluer les performances du modèle entraîné en retournant les métriques de classification. Elle offre une vue d'ensemble précise de la qualité du modèle en termes de précision, rappel, et f1-score, tout en visualisant la matrice de confusion. Cette fonction fournit ainsi une perception claire des forces et faiblesses du modèle, en facilitant l'analyse des résultats obtenus."
      ]
    },
    {
      "cell_type": "code",
      "execution_count": null,
      "metadata": {
        "id": "zDTMdHn4l2tp"
      },
      "outputs": [],
      "source": [
        "def evaluate_model(model_path, test_loader, save_image_name, image_title):\n",
        "    # Charger le modèle sauvegardé\n",
        "    model = models.resnet18()  # Remplacez par l'architecture de votre modèle\n",
        "    model.fc = nn.Linear(model.fc.in_features, 2)  # Adapter la dernière couche si nécessaire\n",
        "\n",
        "    # Charger les poids sauvegardés\n",
        "    model.load_state_dict(torch.load(model_path))\n",
        "\n",
        "    # Déplacer le modèle sur le GPU\n",
        "    device = torch.device('cuda' if torch.cuda.is_available() else 'cpu')\n",
        "    model = model.to(device)\n",
        "\n",
        "    # Évaluation du modèle\n",
        "    model.eval()\n",
        "    with torch.no_grad():\n",
        "        test_preds = []\n",
        "        test_labels = []\n",
        "        for inputs, labels in test_loader:\n",
        "            inputs = inputs.to(device)  # Déplacer les entrées vers le GPU\n",
        "            labels = labels.to(device)  # Déplacer les labels vers le GPU si nécessaire\n",
        "\n",
        "            outputs = model(inputs)\n",
        "            _, preds = torch.max(outputs, 1)\n",
        "            test_preds.extend(preds.cpu().numpy())  # Déplacer les prédictions vers le CPU pour les convertir en numpy\n",
        "            test_labels.extend(labels.cpu().numpy())  # Déplacer les labels vers le CPU pour les convertir en numpy\n",
        "\n",
        "    # Évaluation des performances\n",
        "    print(\"Classification Report:\")\n",
        "    print(classification_report(test_labels, test_preds))\n",
        "\n",
        "    # Calcul de la matrice de confusion\n",
        "    conf_matrix = confusion_matrix(test_labels, test_preds)\n",
        "\n",
        "    # Affichage de la matrice de confusion\n",
        "    plt.figure(figsize=(10, 7))\n",
        "    sns.heatmap(conf_matrix, annot=True, fmt='d', cmap='Blues',\n",
        "                xticklabels=['Recyclable', 'Organique'],\n",
        "                yticklabels=['Recyclable', 'Organique'])\n",
        "    plt.xlabel('Prédictions')\n",
        "    plt.ylabel('Véritables')\n",
        "    plt.title(image_title)\n",
        "\n",
        "    # Enregistrement de l'image\n",
        "    plt.savefig(f'/content/drive/MyDrive/{save_image_name}.png', dpi=300, bbox_inches='tight')\n",
        "    plt.show()"
      ]
    },
    {
      "cell_type": "code",
      "execution_count": null,
      "metadata": {
        "colab": {
          "base_uri": "https://localhost:8080/",
          "height": 740
        },
        "id": "54u5pS2nl95k",
        "outputId": "2da09306-76c3-4c00-f9a0-7af56c9698cd"
      },
      "outputs": [
        {
          "name": "stdout",
          "output_type": "stream",
          "text": [
            "Classification Report:\n",
            "              precision    recall  f1-score   support\n",
            "\n",
            "           0       0.98      0.88      0.93      1112\n",
            "           1       0.91      0.99      0.95      1411\n",
            "\n",
            "    accuracy                           0.94      2523\n",
            "   macro avg       0.95      0.93      0.94      2523\n",
            "weighted avg       0.94      0.94      0.94      2523\n",
            "\n"
          ]
        },
        {
          "data": {
            "image/png": "[encoded data removed]",
            "text/plain": [
              "<Figure size 1000x700 with 2 Axes>"
            ]
          },
          "metadata": {},
          "output_type": "display_data"
        }
      ],
      "source": [
        "model_path = '/content/drive/MyDrive/models/modelresnet18AdamversusSec.pth'\n",
        "save_image_name = 'matrice_confusion_AdamResnet18'\n",
        "image_title = 'Matrice de Confusion model Resnet18 Adam'\n",
        "\n",
        "evaluate_model(model_path, test_loader, save_image_name, image_title)"
      ]
    },
    {
      "cell_type": "markdown",
      "metadata": {
        "id": "LETiz6GaAU4E"
      },
      "source": [
        "### SGD\n",
        "L'optimiseur Stochastic Gradient Descent est pratique pour la généralisation."
      ]
    },
    {
      "cell_type": "code",
      "execution_count": null,
      "metadata": {
        "id": "18o8DtQia6Ev"
      },
      "outputs": [],
      "source": [
        "# Définir la fonction de perte\n",
        "criterion = nn.CrossEntropyLoss()\n",
        "\n",
        "# Définir l'optimiseur\n",
        "optimizer = optim.SGD(model.parameters(), lr=0.001, momentum=0.9)"
      ]
    },
    {
      "cell_type": "code",
      "execution_count": null,
      "metadata": {
        "colab": {
          "base_uri": "https://localhost:8080/"
        },
        "id": "NC2lDM6M_mqv",
        "outputId": "371eb109-dc64-4c50-d017-d08bed6e31d3"
      },
      "outputs": [
        {
          "name": "stdout",
          "output_type": "stream",
          "text": [
            "Epoch 1/10\n",
            "Batch 0/568, Loss: 1.0742\n",
            "Batch 100/568, Loss: 0.1041\n",
            "Batch 200/568, Loss: 0.0842\n",
            "Batch 300/568, Loss: 0.1177\n",
            "Batch 400/568, Loss: 0.1444\n",
            "Batch 500/568, Loss: 0.0676\n",
            "Loss: 0.1550\n",
            "Epoch 2/10\n",
            "Batch 0/568, Loss: 0.3791\n",
            "Batch 100/568, Loss: 0.1804\n",
            "Batch 200/568, Loss: 0.0430\n",
            "Batch 300/568, Loss: 0.0870\n",
            "Batch 400/568, Loss: 0.1503\n",
            "Batch 500/568, Loss: 0.1043\n",
            "Loss: 0.0983\n",
            "Epoch 3/10\n",
            "Batch 0/568, Loss: 0.0560\n",
            "Batch 100/568, Loss: 0.0513\n",
            "Batch 200/568, Loss: 0.1658\n",
            "Batch 300/568, Loss: 0.1134\n",
            "Batch 400/568, Loss: 0.0869\n",
            "Batch 500/568, Loss: 0.0372\n",
            "Loss: 0.0725\n",
            "Epoch 4/10\n",
            "Batch 0/568, Loss: 0.0348\n",
            "Batch 100/568, Loss: 0.0153\n",
            "Batch 200/568, Loss: 0.0227\n",
            "Batch 300/568, Loss: 0.0329\n",
            "Batch 400/568, Loss: 0.2090\n",
            "Batch 500/568, Loss: 0.0133\n",
            "Loss: 0.0543\n",
            "Epoch 5/10\n",
            "Batch 0/568, Loss: 0.0062\n",
            "Batch 100/568, Loss: 0.0794\n",
            "Batch 200/568, Loss: 0.0806\n",
            "Batch 300/568, Loss: 0.3011\n",
            "Batch 400/568, Loss: 0.0655\n",
            "Batch 500/568, Loss: 0.1020\n",
            "Loss: 0.0407\n",
            "Epoch 6/10\n",
            "Batch 0/568, Loss: 0.0277\n",
            "Batch 100/568, Loss: 0.0074\n",
            "Batch 200/568, Loss: 0.0096\n",
            "Batch 300/568, Loss: 0.0312\n",
            "Batch 400/568, Loss: 0.0045\n",
            "Batch 500/568, Loss: 0.0214\n",
            "Loss: 0.0278\n",
            "Epoch 7/10\n",
            "Batch 0/568, Loss: 0.0381\n",
            "Batch 100/568, Loss: 0.0204\n",
            "Batch 200/568, Loss: 0.0229\n",
            "Batch 300/568, Loss: 0.0213\n",
            "Batch 400/568, Loss: 0.1792\n",
            "Batch 500/568, Loss: 0.0153\n",
            "Loss: 0.0227\n",
            "Epoch 8/10\n",
            "Batch 0/568, Loss: 0.0056\n",
            "Batch 100/568, Loss: 0.0086\n",
            "Batch 200/568, Loss: 0.0126\n",
            "Batch 300/568, Loss: 0.0089\n",
            "Batch 400/568, Loss: 0.0584\n",
            "Batch 500/568, Loss: 0.0319\n",
            "Loss: 0.0176\n",
            "Epoch 9/10\n",
            "Batch 0/568, Loss: 0.0015\n",
            "Batch 100/568, Loss: 0.0146\n",
            "Batch 200/568, Loss: 0.0111\n",
            "Batch 300/568, Loss: 0.0074\n",
            "Batch 400/568, Loss: 0.0676\n",
            "Batch 500/568, Loss: 0.0014\n",
            "Loss: 0.0109\n",
            "Epoch 10/10\n",
            "Batch 0/568, Loss: 0.0180\n",
            "Batch 100/568, Loss: 0.0159\n",
            "Batch 200/568, Loss: 0.0054\n",
            "Batch 300/568, Loss: 0.0052\n",
            "Batch 400/568, Loss: 0.0007\n",
            "Batch 500/568, Loss: 0.0013\n",
            "Loss: 0.0099\n",
            "Validation Loss: 0.0276, Accuracy: 0.9628\n",
            "Modèle sauvegardé sous '/content/drive/MyDrive/models/modelresnet18SGDversusSec.pth'\n"
          ]
        }
      ],
      "source": [
        "# Appel de la fonction d'entraînement et de validation\n",
        "train_and_validate(model, train_loader, val_loader, criterion, optimizer, device, '/content/drive/MyDrive/models/modelresnet18SGDversusSec.pth')"
      ]
    },
    {
      "cell_type": "code",
      "execution_count": null,
      "metadata": {
        "colab": {
          "base_uri": "https://localhost:8080/",
          "height": 740
        },
        "id": "xGpbef8JAaM9",
        "outputId": "75c51c9c-9db6-424a-b2e7-07fb189b74e8"
      },
      "outputs": [
        {
          "name": "stdout",
          "output_type": "stream",
          "text": [
            "Classification Report:\n",
            "              precision    recall  f1-score   support\n",
            "\n",
            "           0       0.99      0.84      0.91      1112\n",
            "           1       0.88      0.99      0.94      1411\n",
            "\n",
            "    accuracy                           0.92      2523\n",
            "   macro avg       0.94      0.91      0.92      2523\n",
            "weighted avg       0.93      0.92      0.92      2523\n",
            "\n"
          ]
        },
        {
          "data": {
            "image/png": "[encoded data removed]",
            "text/plain": [
              "<Figure size 1000x700 with 2 Axes>"
            ]
          },
          "metadata": {},
          "output_type": "display_data"
        }
      ],
      "source": [
        "model_path = '/content/drive/MyDrive/models/modelresnet18SGDversusSec.pth'\n",
        "save_image_name = 'matrice_confusion_SGDResnet18'\n",
        "image_title = 'Matrice de Confusion model Resnet18 SGD'\n",
        "\n",
        "evaluate_model(model_path, test_loader, save_image_name, image_title)"
      ]
    },
    {
      "cell_type": "markdown",
      "metadata": {
        "id": "bKERV5CkoSFr"
      },
      "source": [
        "Les résultats du matrice de confusion et les metrics montrent que Adam est plus performant pour classer les produits recyclables, tandis que SGD est plus efficace pour les produits organiques. Cela pourrait être dû au fait que SGD, avec son processus de mise à jour plus rigoureux, permet une meilleure généralisation pour certains types de données. En revanche, Adam, avec son taux d'apprentissage adaptatif, a montré une meilleure précision sur la classe \"Recyclable\" mais a été légèrement moins performant sur la classe \"Organique\". \\\n",
        "Adam est choisi pour la suite de ce projet, car la classification des matériaux recyclables est plus cruciale dans la gestion des déchets."
      ]
    },
    {
      "cell_type": "markdown",
      "metadata": {
        "id": "PDeRMvBC77ni"
      },
      "source": [
        "## Inception"
      ]
    },
    {
      "cell_type": "markdown",
      "metadata": {
        "id": "ThjvUtE38QoK"
      },
      "source": [
        "Le principe du model Inception est de meme que pour le resnet. La difference entre les deux modeles dans notre code est la transformation."
      ]
    },
    {
      "cell_type": "code",
      "execution_count": null,
      "metadata": {
        "id": "pAZGOWhx7_N_"
      },
      "outputs": [],
      "source": [
        "# Définir les transformations\n",
        "data_transforms = {\n",
        "    'train': transforms.Compose([\n",
        "        transforms.Resize((299, 299)),  # Taille d'entrée requise par Inception v3\n",
        "        transforms.RandomHorizontalFlip(),\n",
        "        transforms.ToTensor(),\n",
        "        transforms.Normalize([0.485, 0.456, 0.406], [0.229, 0.224, 0.225])\n",
        "    ]),\n",
        "    'val': transforms.Compose([\n",
        "        transforms.Resize((299, 299)),  # Taille d'entrée requise par Inception v3\n",
        "        transforms.ToTensor(),\n",
        "        transforms.Normalize([0.485, 0.456, 0.406], [0.229, 0.224, 0.225])\n",
        "    ]),\n",
        "}"
      ]
    },
    {
      "cell_type": "code",
      "execution_count": null,
      "metadata": {
        "id": "h9O1AhEg8EWH"
      },
      "outputs": [],
      "source": [
        "# Créer le dataset complet\n",
        "full_train_dataset = WasteDataset(csv_file=csv_train_path, root_dir=root_dir_train, transform=data_transforms['train'])\n",
        "\n",
        "# Diviser les indices pour l'entraînement et la validation\n",
        "dataset_size = len(full_train_dataset)\n",
        "indices = list(range(dataset_size))\n",
        "split = int(np.floor(0.2 * dataset_size))\n",
        "np.random.shuffle(indices)\n",
        "train_indices, val_indices = indices[split:], indices[:split]\n",
        "\n",
        "# Créer les samplers\n",
        "train_sampler = SubsetRandomSampler(train_indices)\n",
        "val_sampler = SubsetRandomSampler(val_indices)\n",
        "\n",
        "# Créer les DataLoaders\n",
        "train_loader = DataLoader(full_train_dataset, batch_size=32, sampler=train_sampler, num_workers=2)\n",
        "val_loader = DataLoader(full_train_dataset, batch_size=32, sampler=val_sampler, num_workers=2)"
      ]
    },
    {
      "cell_type": "code",
      "execution_count": null,
      "metadata": {
        "colab": {
          "base_uri": "https://localhost:8080/"
        },
        "id": "L5Mu4PTZ8kh-",
        "outputId": "552e2c75-6fa2-438f-fdec-16cfe89075cf"
      },
      "outputs": [
        {
          "name": "stderr",
          "output_type": "stream",
          "text": [
            "/usr/local/lib/python3.10/dist-packages/torchvision/models/_utils.py:208: UserWarning: The parameter 'pretrained' is deprecated since 0.13 and may be removed in the future, please use 'weights' instead.\n",
            "  warnings.warn(\n",
            "/usr/local/lib/python3.10/dist-packages/torchvision/models/_utils.py:223: UserWarning: Arguments other than a weight enum or `None` for 'weights' are deprecated since 0.13 and may be removed in the future. The current behavior is equivalent to passing `weights=Inception_V3_Weights.IMAGENET1K_V1`. You can also use `weights=Inception_V3_Weights.DEFAULT` to get the most up-to-date weights.\n",
            "  warnings.warn(msg)\n",
            "Downloading: \"https://download.pytorch.org/models/inception_v3_google-0cc3c7bd.pth\" to /root/.cache/torch/hub/checkpoints/inception_v3_google-0cc3c7bd.pth\n",
            "100%|██████████| 104M/104M [00:00<00:00, 157MB/s] \n"
          ]
        }
      ],
      "source": [
        "# Charger le modèle Inception v3 pré-entraîné\n",
        "model = models.inception_v3(pretrained=True)\n",
        "\n",
        "# Adapter la dernière couche pour votre nombre de classes\n",
        "num_classes = 2  # Changez selon votre dataset\n",
        "model.fc = torch.nn.Linear(model.fc.in_features, num_classes)\n",
        "\n",
        "# Utiliser le GPU si disponible\n",
        "device = torch.device('cuda' if torch.cuda.is_available() else 'cpu')\n",
        "model = model.to(device)"
      ]
    },
    {
      "cell_type": "code",
      "execution_count": null,
      "metadata": {
        "id": "amIvEMih8nTH"
      },
      "outputs": [],
      "source": [
        "# Définir la fonction de perte et l'optimiseur\n",
        "criterion = torch.nn.CrossEntropyLoss()\n",
        "optimizer = optim.Adam(model.parameters(), lr=0.001)"
      ]
    },
    {
      "cell_type": "code",
      "execution_count": null,
      "metadata": {
        "colab": {
          "background_save": true,
          "base_uri": "https://localhost:8080/"
        },
        "id": "zOcLged88tSs",
        "outputId": "a4c22177-fd83-484b-879a-48abf1b03d45"
      },
      "outputs": [
        {
          "name": "stdout",
          "output_type": "stream",
          "text": [
            "Epoch 1/10, Loss: 0.4761336429280714\n",
            "Epoch 2/10, Loss: 0.39265585264427144\n",
            "Epoch 3/10, Loss: 0.3567599300163942\n",
            "Epoch 4/10, Loss: 0.33254308496195245\n",
            "Epoch 5/10, Loss: 0.3020505173079355\n",
            "Epoch 6/10, Loss: 0.2827398125344599\n",
            "Epoch 7/10, Loss: 0.29978554524009077\n",
            "Epoch 8/10, Loss: 0.2722955799832101\n",
            "Epoch 9/10, Loss: 0.24598451632953866\n",
            "Epoch 10/10, Loss: 0.22587798598130615\n",
            "Accuracy: 92.7769213829553%\n",
            "Modèle sauvegardé sous 'modelVgg16Adam.pth'\n"
          ]
        }
      ],
      "source": [
        "num_epochs = 10  # Nombre d'époques pour l'entraînement\n",
        "\n",
        "for epoch in range(num_epochs):\n",
        "    model.train()\n",
        "    running_loss = 0.0\n",
        "    for inputs, labels in train_loader:\n",
        "        inputs, labels = inputs.to(device), labels.to(device)\n",
        "\n",
        "        optimizer.zero_grad()\n",
        "\n",
        "        outputs, aux_outputs = model(inputs)\n",
        "        loss1 = criterion(outputs, labels)\n",
        "        loss2 = criterion(aux_outputs, labels)\n",
        "        loss = loss1 + 0.4 * loss2\n",
        "\n",
        "        loss.backward()\n",
        "        optimizer.step()\n",
        "\n",
        "        running_loss += loss.item()\n",
        "\n",
        "    print(f'Epoch {epoch+1}/{num_epochs}, Loss: {running_loss/len(train_loader)}')\n",
        "\n",
        "\n",
        "model.eval()\n",
        "correct = 0\n",
        "total = 0\n",
        "with torch.no_grad():\n",
        "    for inputs, labels in val_loader:\n",
        "        inputs, labels = inputs.to(device), labels.to(device)\n",
        "        outputs = model(inputs)\n",
        "        _, predicted = torch.max(outputs, 1)\n",
        "        total += labels.size(0)\n",
        "        correct += (predicted == labels).sum().item()\n",
        "\n",
        "print(f'Accuracy: {100 * correct / total}%')\n",
        "\n",
        "torch.save(model.state_dict(), '/content/drive/MyDrive/models/modelInceptionAdam.pth')\n",
        "print(\"Modèle sauvegardé sous 'modelInceptionAdam.pth'\")"
      ]
    },
    {
      "cell_type": "code",
      "execution_count": null,
      "metadata": {
        "colab": {
          "base_uri": "https://localhost:8080/",
          "height": 815
        },
        "id": "tdODDtPbp-gx",
        "outputId": "876a6abe-41f3-4ea7-8ffb-07a9a41fb352"
      },
      "outputs": [
        {
          "name": "stdout",
          "output_type": "stream",
          "text": [
            "Classification Report:\n",
            "              precision    recall  f1-score   support\n",
            "\n",
            "           0       0.97      0.48      0.64      1112\n",
            "           1       0.71      0.99      0.82      1411\n",
            "\n",
            "    accuracy                           0.76      2523\n",
            "   macro avg       0.84      0.73      0.73      2523\n",
            "weighted avg       0.82      0.76      0.74      2523\n",
            "\n"
          ]
        },
        {
          "data": {
            "image/png": "[encoded data removed]",
            "text/plain": [
              "<Figure size 1000x700 with 2 Axes>"
            ]
          },
          "metadata": {},
          "output_type": "display_data"
        }
      ],
      "source": [
        "model = models.inception_v3(init_weights=True)  # Remplacez par l'architecture de votre modèle\n",
        "# Adapter la dernière couche pour correspondre au nombre de classes de votre tâche (par exemple, 2 classes)\n",
        "model.fc = nn.Linear(model.fc.in_features, 2)\n",
        "\n",
        "# Charger les poids sauvegardés\n",
        "model.load_state_dict(torch.load('/content/drive/MyDrive/models/modelInceptionAdam.pth'))\n",
        "\n",
        "# Déplacer le modèle sur le GPU\n",
        "device = torch.device('cuda' if torch.cuda.is_available() else 'cpu')\n",
        "model = model.to(device)\n",
        "\n",
        "# Évaluation du modèle\n",
        "model.eval()\n",
        "with torch.no_grad():\n",
        "    test_preds = []\n",
        "    test_labels = []\n",
        "    for inputs, labels in test_loader:\n",
        "        inputs = inputs.to(device)  # Déplacer les entrées vers le GPU\n",
        "        labels = labels.to(device)  # Déplacer les labels vers le GPU si nécessaire\n",
        "\n",
        "        outputs = model(inputs)\n",
        "        _, preds = torch.max(outputs, 1)\n",
        "        test_preds.extend(preds.cpu().numpy())  # Déplacer les prédictions vers le CPU pour les convertir en numpy\n",
        "        test_labels.extend(labels.cpu().numpy())  # Déplacer les labels vers le CPU pour les convertir en numpy\n",
        "\n",
        "# Évaluation des performances\n",
        "print(\"Classification Report:\")\n",
        "print(classification_report(test_labels, test_preds))\n",
        "\n",
        "# Calcul de la matrice de confusion\n",
        "conf_matrix = confusion_matrix(test_labels, test_preds)\n",
        "\n",
        "# Affichage de la matrice de confusion\n",
        "plt.figure(figsize=(10, 7))\n",
        "sns.heatmap(conf_matrix, annot=True, fmt='d', cmap='Blues',\n",
        "            xticklabels=['Recyclable', 'Organique'],\n",
        "            yticklabels=['Recyclable', 'Organique'])\n",
        "plt.xlabel('Prédictions')\n",
        "plt.ylabel('Véritables')\n",
        "plt.title('Matrice de confusion model Inception Adam')\n",
        "\n",
        "# Enregistrement de l'image\n",
        "plt.savefig('/content/drive/MyDrive/matriceconfusionInception.png', dpi=300, bbox_inches='tight')\n",
        "plt.show()"
      ]
    },
    {
      "cell_type": "markdown",
      "metadata": {
        "id": "GaHlmzUsxmUO"
      },
      "source": [
        "#### Receiver Operating Characteristic (ROC)"
      ]
    },
    {
      "cell_type": "code",
      "execution_count": null,
      "metadata": {
        "id": "aNI33kh3sDF4"
      },
      "outputs": [],
      "source": [
        "from sklearn.metrics import roc_curve, auc\n",
        "import matplotlib.pyplot as plt\n",
        "import torch.nn.functional as F"
      ]
    },
    {
      "cell_type": "code",
      "execution_count": null,
      "metadata": {
        "id": "fxMeWeRKrh5K"
      },
      "outputs": [],
      "source": [
        "def plot_roc_curve(model, test_loader, device, model_name, model_path,save_image_name):\n",
        "    # Choisir l'architecture du modèle en fonction du nom\n",
        "    if model_name == \"resnet18\":\n",
        "        model = models.resnet18()  # Remplacer par False si vous ne souhaitez pas utiliser les poids pré-entraînés\n",
        "        model.fc = nn.Linear(model.fc.in_features, 2)  # Adapter la dernière couche pour deux classes\n",
        "    # Ajoutez d'autres architectures si nécessaire ici\n",
        "    else:\n",
        "        raise ValueError(f\"Modèle {model_name} non supporté.\")\n",
        "\n",
        "    # Charger les poids sauvegardés\n",
        "    model.load_state_dict(torch.load(model_path))\n",
        "\n",
        "    # Déplacer le modèle sur le GPU\n",
        "    device = torch.device('cuda' if torch.cuda.is_available() else 'cpu')\n",
        "    model = model.to(device)\n",
        "\n",
        "    # Mettre le modèle en mode évaluation\n",
        "    model.eval()\n",
        "\n",
        "    # Prédictions des probabilités sur le jeu de test\n",
        "    test_probs = []\n",
        "    test_labels = []\n",
        "\n",
        "    with torch.no_grad():\n",
        "        for inputs, labels in test_loader:\n",
        "            inputs = inputs.to(device)\n",
        "            labels = labels.to(device)\n",
        "\n",
        "            outputs = model(inputs)\n",
        "            probs = F.softmax(outputs, dim=1)  # Calculer les probabilités des classes\n",
        "            test_probs.extend(probs[:, 1].cpu().numpy())  # Probabilité pour la classe 1\n",
        "            test_labels.extend(labels.cpu().numpy())\n",
        "\n",
        "    # Calcul des courbes ROC et de l'AUC\n",
        "    fpr, tpr, _ = roc_curve(test_labels, test_probs)\n",
        "    roc_auc = auc(fpr, tpr)\n",
        "\n",
        "    # Tracer la courbe ROC\n",
        "    plt.figure()\n",
        "    plt.plot(fpr, tpr, color='darkorange', lw=2, label=f'ROC curve (area = {roc_auc:.2f})')\n",
        "    plt.plot([0, 1], [0, 1], color='navy', lw=2, linestyle='--')\n",
        "    plt.xlim([0.0, 1.0])\n",
        "    plt.ylim([0.0, 1.05])\n",
        "    plt.xlabel('Taux de Faux Positifs')\n",
        "    plt.ylabel('Taux de Vrais Positifs')\n",
        "    plt.title(f'Courbe ROC du modèle {model_name}')\n",
        "    plt.legend(loc='lower right')\n",
        "    plt.savefig(f'/content/drive/MyDrive/{save_image_name}.png', dpi=300, bbox_inches='tight')\n",
        "    plt.show()\n"
      ]
    },
    {
      "cell_type": "code",
      "execution_count": null,
      "metadata": {
        "colab": {
          "base_uri": "https://localhost:8080/",
          "height": 472
        },
        "id": "A8bXhH2ksJqX",
        "outputId": "775698cb-b8f9-43ce-e65d-65363851ff20"
      },
      "outputs": [
        {
          "data": {
            "image/png": "[encoded data removed]",
            "text/plain": [
              "<Figure size 640x480 with 1 Axes>"
            ]
          },
          "metadata": {},
          "output_type": "display_data"
        }
      ],
      "source": [
        "# Exemple d'utilisation avec le modèle ResNet18 entraîné avec Adam :\n",
        "model_path='/content/drive/MyDrive/models/modelresnet18AdamversusSec.pth'\n",
        "model_name=\"resnet18\"\n",
        "save_image_name=\"Courbe Roc Resnet18 Adam\"\n",
        "plot_roc_curve(model, test_loader, device, model_name, model_path, save_image_name)"
      ]
    },
    {
      "cell_type": "markdown",
      "metadata": {
        "id": "WqsJ3pS6xGYT"
      },
      "source": [
        "Nous avons un AUC presque parfait Une AUC de 0.98 ce qui signifie que le modèle a une excellente capacité de discrimination entre les deux classes."
      ]
    },
    {
      "cell_type": "markdown",
      "metadata": {
        "id": "zHB6ssFfyG8C"
      },
      "source": [
        "### Analyse d'erreur"
      ]
    },
    {
      "cell_type": "code",
      "execution_count": null,
      "metadata": {
        "colab": {
          "background_save": true
        },
        "id": "xQmm3B6vyf1O"
      },
      "outputs": [],
      "source": [
        "model.eval()\n",
        "# Assuming `model` is your trained model and `val_loader` is your validation dataloader\n",
        "all_preds = []\n",
        "all_labels = []\n",
        "all_images = []\n",
        "all_probs = []\n",
        "\n",
        "model.eval()\n",
        "with torch.no_grad():\n",
        "    for inputs, labels in val_loader:\n",
        "        inputs, labels = inputs.to(device), labels.to(device)\n",
        "        outputs = model(inputs)\n",
        "        probs = torch.nn.functional.softmax(outputs, dim=1)\n",
        "        _, preds = torch.max(outputs, 1)\n",
        "\n",
        "        all_preds.extend(preds.cpu().numpy())\n",
        "        all_labels.extend(labels.cpu().numpy())\n",
        "        all_images.extend(inputs.cpu().numpy())\n",
        "        all_probs.extend(probs.cpu().numpy())\n",
        "\n",
        "# Convert lists to numpy arrays\n",
        "all_preds = np.array(all_preds)\n",
        "all_labels = np.array(all_labels)\n",
        "all_images = np.array(all_images)\n",
        "all_probs = np.array(all_probs)\n",
        "\n",
        "# Calculate errors\n",
        "errors = all_preds != all_labels\n",
        "\n",
        "# Only keep the probabilities for incorrect predictions\n",
        "incorrect_probs = all_probs[errors]\n",
        "incorrect_preds = all_preds[errors]\n",
        "incorrect_labels = all_labels[errors]\n",
        "\n",
        "# Calculate the confidence for incorrect predictions (max probability for the predicted class)\n",
        "confidence = np.max(incorrect_probs, axis=1)\n",
        "\n",
        "# Sort indices by confidence in descending order\n",
        "sorted_indices = np.argsort(confidence)[::-1]\n",
        "\n",
        "# Sort data based on the sorted indices\n",
        "worst_case_images = all_images[errors][sorted_indices]\n",
        "worst_case_preds = incorrect_preds[sorted_indices]\n",
        "worst_case_labels = incorrect_labels[sorted_indices]\n",
        "worst_case_confidence = confidence[sorted_indices]"
      ]
    },
    {
      "cell_type": "code",
      "execution_count": null,
      "metadata": {
        "id": "6X95c7tgkqo5"
      },
      "outputs": [],
      "source": [
        "class GradCAM:\n",
        "    def __init__(self, model, target_layer):\n",
        "        self.model = model\n",
        "        self.target_layer = target_layer\n",
        "        self.gradients = None\n",
        "        self.activations = None\n",
        "\n",
        "        self._register_hooks()\n",
        "\n",
        "    def _register_hooks(self):\n",
        "        def forward_hook(module, input, output):\n",
        "            self.activations = output\n",
        "\n",
        "        def backward_hook(module, grad_in, grad_out):\n",
        "            self.gradients = grad_out[0]\n",
        "\n",
        "        self.target_layer.register_forward_hook(forward_hook)\n",
        "        self.target_layer.register_backward_hook(backward_hook)\n",
        "\n",
        "    def generate_cam(self, input_image, class_idx):\n",
        "        self.model.zero_grad()\n",
        "        output = self.model(input_image)\n",
        "        loss = output[0, class_idx]\n",
        "        loss.backward()\n",
        "\n",
        "        gradients = self.gradients.cpu().data.numpy()[0]\n",
        "        activations = self.activations.cpu().data.numpy()[0]\n",
        "        weights = np.mean(gradients, axis=(1, 2))\n",
        "\n",
        "        cam = np.zeros(activations.shape[1:], dtype=np.float32)\n",
        "        for i, w in enumerate(weights):\n",
        "            cam += w * activations[i]\n",
        "\n",
        "        cam = np.maximum(cam, 0)\n",
        "        cam = cv2.resize(cam, input_image.shape[2:])\n",
        "        cam = cam - np.min(cam)\n",
        "        cam = cam / np.max(cam)\n",
        "        return cam"
      ]
    },
    {
      "cell_type": "code",
      "execution_count": null,
      "metadata": {
        "id": "ZkiA5ZtI3gai"
      },
      "outputs": [],
      "source": [
        "def preprocess_image(img):\n",
        "    preprocess = transforms.Compose([\n",
        "        transforms.ToTensor(),\n",
        "        transforms.Normalize(mean=[0.485, 0.456, 0.406], std=[0.229, 0.224, 0.225])\n",
        "    ])\n",
        "    return preprocess(img).unsqueeze(0)\n",
        "\n",
        "def denormalize(img):\n",
        "    mean = np.array([0.485, 0.456, 0.406])\n",
        "    std = np.array([0.229, 0.224, 0.225])\n",
        "    img = img * std + mean\n",
        "    return np.clip(img, 0, 1)"
      ]
    },
    {
      "cell_type": "code",
      "execution_count": null,
      "metadata": {
        "id": "mmG_Fvd0k31o"
      },
      "outputs": [],
      "source": [
        "# Instantiate Grad-CAM\n",
        "target_layer = model.layer4[1].conv2\n",
        "grad_cam = GradCAM(model, target_layer)"
      ]
    },
    {
      "cell_type": "code",
      "execution_count": null,
      "metadata": {
        "id": "qXvCa4IJlCkb"
      },
      "outputs": [],
      "source": [
        "import cv2\n",
        "# Define the class-to-index mapping externally\n",
        "# Définir le mapping manuel\n",
        "class_to_idx = {'Recyclable': 0, 'Organique': 1}\n",
        "idx_to_class = {0: 'Recyclable', 1: 'Organique'}\n",
        "\n",
        "# Visualize the 10 worst-case predictions with Grad-CAM\n",
        "for i in range(100):\n",
        "    img = worst_case_images[i].transpose((1, 2, 0))  # Convert to HWC format for visualization\n",
        "    input_image = preprocess_image(img).to(device)  # Preprocess and move to the same device as the model\n",
        "    class_idx = worst_case_preds[i]\n",
        "\n",
        "    # Generate Grad-CAM\n",
        "    cam = grad_cam.generate_cam(input_image, class_idx)\n",
        "\n",
        "    # Denormalize the image\n",
        "    img = denormalize(img)\n",
        "\n",
        "    # Create a color map for Grad-CAM\n",
        "    cam = cv2.applyColorMap(np.uint8(255 * cam), cv2.COLORMAP_JET)\n",
        "    cam = np.float32(cam) + np.float32(img)\n",
        "    cam = 255 * cam / np.max(cam)\n",
        "\n",
        "    # Plot original image and Grad-CAM\n",
        "    plt.figure(figsize=(12, 6))\n",
        "\n",
        "    # Original Image\n",
        "    plt.subplot(1, 2, 1)\n",
        "    plt.title(f'Original Image\\nPredicted: {idx_to_class[worst_case_preds[i]]}\\nActual: {idx_to_class[worst_case_labels[i]]}')\n",
        "    plt.imshow(img)\n",
        "    plt.axis('off')\n",
        "\n",
        "    # Grad-CAM\n",
        "    plt.subplot(1, 2, 2)\n",
        "    plt.title('Grad-CAM')\n",
        "    plt.imshow(cam / 255)\n",
        "    plt.axis('off')\n",
        "    plt.savefig('/content/drive/MyDrive/gradcam.png', dpi=300, bbox_inches='tight')\n",
        "    plt.show()"
      ]
    },
    {
      "cell_type": "markdown",
      "metadata": {
        "id": "S64wUz09gPp9"
      },
      "source": [
        "## Conclusion\n",
        "\n",
        "Pour ce projet, nous avons utilisé le modèle ResNet18 avec les optimiseurs Adam et SGD, tous deux très couramment utilisés en raison de leurs avantages respectifs. Un modèle Inception a également été employé pour observer les variations, mais le ResNet18 s'est révélé bien plus performant.\n",
        "\n",
        "L'un des principaux obstacles rencontrés dans ce projet est que les images d'entraînement ne représentent pas bien les fruits et légumes pourris. De plus, la classification binaire s'est avérée trop généralisée, car chaque type de matériau suit un processus de recyclage différent. Le projet ayant un délai de deux semaines, ces obstacles n'ont pas pu être résolus dans les temps impartis. Cependant, nous avons réussi à obtenir un modèle capable de classifier les produits organiques et recyclables. Pour le choix de l'optimiseur, le choix a été balancé d'Adam car il arrive a classifier mieux les produits recyclables. Le perspective pour ce projet est d'améliorer le dataset en rajoutant les sous classes et fait appel aux détection d'objet."
      ]
    },
    {
      "cell_type": "markdown",
      "metadata": {
        "id": "WG7G1CQbvJ1g"
      },
      "source": [
        "# Résumé\n",
        "\n",
        "\n",
        "| Modèle          | Architecture          | Nombre de Classes | Méthode d'Optimisation | Accuracy (%) | Précision (%) | Rappel (%) |\n",
        "|-----------------|-----------------------|-------------------|------------------------|--------------|---------------|------------|\n",
        "| Inception v3    | Inception v3           | 2                 | Adam                   | 92.7         | 84.0          | 73.0       |\n",
        "| ResNet18        | ResNet                 | 2                 | SGD                    | 94.0         | 95.0          | 93.0       |\n",
        "| ResNet18           | Resnet                    | 2                 | Adam                   | 94.0         | 91.0          | 92.0       |\n"
      ]
    },
    {
      "cell_type": "code",
      "execution_count": null,
      "metadata": {
        "id": "sOvldwTDfH4g"
      },
      "outputs": [],
      "source": []
    }
  ],
  "metadata": {
    "accelerator": "GPU",
    "colab": {
      "gpuType": "T4",
      "provenance": [],
      "include_colab_link": true
    },
    "kernelspec": {
      "display_name": "Python 3",
      "name": "python3"
    },
    "language_info": {
      "name": "python"
    }
  },
  "nbformat": 4,
  "nbformat_minor": 0
}